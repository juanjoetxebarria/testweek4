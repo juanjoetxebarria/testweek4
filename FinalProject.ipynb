{
  "metadata": {
    "language_info": {
      "codemirror_mode": {
        "name": "python",
        "version": 3
      },
      "file_extension": ".py",
      "mimetype": "text/x-python",
      "name": "python",
      "nbconvert_exporter": "python",
      "pygments_lexer": "ipython3",
      "version": "3.8"
    },
    "kernelspec": {
      "name": "python",
      "display_name": "Pyolite",
      "language": "python"
    }
  },
  "nbformat_minor": 4,
  "nbformat": 4,
  "cells": [
    {
      "cell_type": "markdown",
      "source": "# My Jupyter Notebook on IBM Watson Studio",
      "metadata": {}
    },
    {
      "cell_type": "markdown",
      "source": "**Juan Jose Echevarria A**\nChief Actuary",
      "metadata": {}
    },
    {
      "cell_type": "markdown",
      "source": "_I am interested in data science because I believe that there's a lot of untapped potential in my line of work_",
      "metadata": {}
    },
    {
      "cell_type": "markdown",
      "source": "### This program adds two numbers",
      "metadata": {}
    },
    {
      "cell_type": "code",
      "source": "a = 1\nb = 2\nprint(\"If you add\",a,\"plus\",b,\"you get\", a+b)",
      "metadata": {
        "trusted": true
      },
      "execution_count": 1,
      "outputs": [
        {
          "name": "stdout",
          "text": "If you add 1 plus 2 you get 3\n",
          "output_type": "stream"
        }
      ]
    },
    {
      "cell_type": "markdown",
      "source": "+ one\n+ two\n+ ~~three~~\n1. one\n⋅⋅1. two\n~~three~~\n\nColumn1 | Col2 | Col3\n--- | --- | ---\n_Item1_ | **Item2** | ~~Item3~~\n1 | 2 | 3",
      "metadata": {}
    }
  ]
}